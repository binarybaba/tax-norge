{
 "metadata": {
  "name": "",
  "signature": "sha256:e3c73dfd75bd06ff9e6b805a78a251f7fd43e8d647b4f1906beea5984eb8bc39"
 },
 "nbformat": 3,
 "nbformat_minor": 0,
 "worksheets": [
  {
   "cells": [
    {
     "cell_type": "code",
     "collapsed": false,
     "input": [
      "from tax_norge import tax_norge\n"
     ],
     "language": "python",
     "metadata": {},
     "outputs": [],
     "prompt_number": 1
    },
    {
     "cell_type": "code",
     "collapsed": false,
     "input": [
      "print(tax_norge(400000))"
     ],
     "language": "python",
     "metadata": {},
     "outputs": [
      {
       "output_type": "stream",
       "stream": "stdout",
       "text": [
        "\n",
        "    +-----------------------------------------+\n",
        "    | Months in Norway                     12 |\n",
        "    | Income                        400000.00 |\n",
        "    +-----------------------------------------+\n",
        "    | Deductions:                             |\n",
        "    |                                         |\n",
        "    | Minimal deduction              89050.00 |\n",
        "    | Standard deduction for                  |\n",
        "    |   foreign workers              40000.00 |\n",
        "    |                                         |\n",
        "    | Income after deductions       270950.00 |\n",
        "    +-----------------------------------------+\n",
        "    | Taxes:                                  |\n",
        "    |                                         |\n",
        "    | NIS                            32800.00 |\n",
        "    |                        8.2% * 400000.00 |\n",
        "    | Tax                            73156.50 |\n",
        "    | 27.0% * 270950.00                       |\n",
        "    +-----------------------------------------+\n",
        "    | Total Tax                     105956.50 |\n",
        "    | Total Tax %                       26.5% |\n",
        "    |                                         |\n",
        "    | Monthly take-home pay          24102.27 |\n",
        "    | December take-home pay         28918.48 |\n",
        "    +-----------------------------------------+\n",
        "\n"
       ]
      }
     ],
     "prompt_number": 2
    },
    {
     "cell_type": "code",
     "collapsed": false,
     "input": [
      "print(tax_norge(500000))"
     ],
     "language": "python",
     "metadata": {},
     "outputs": [
      {
       "output_type": "stream",
       "stream": "stdout",
       "text": [
        "\n",
        "    +-----------------------------------------+\n",
        "    | Months in Norway                     12 |\n",
        "    | Income                        500000.00 |\n",
        "    +-----------------------------------------+\n",
        "    | Deductions:                             |\n",
        "    |                                         |\n",
        "    | Minimal deduction              89050.00 |\n",
        "    | Standard deduction for                  |\n",
        "    |   foreign workers              40000.00 |\n",
        "    |                                         |\n",
        "    | Income after deductions       370950.00 |\n",
        "    +-----------------------------------------+\n",
        "    | Taxes:                                  |\n",
        "    |                                         |\n",
        "    | NIS                            41000.00 |\n",
        "    |                        8.2% * 500000.00 |\n",
        "    | Tax                           100156.50 |\n",
        "    | 27.0% * 370950.00                       |\n",
        "    +-----------------------------------------+\n",
        "    | Total Tax                     141156.50 |\n",
        "    | Total Tax %                       28.2% |\n",
        "    |                                         |\n",
        "    | Monthly take-home pay          29368.94 |\n",
        "    | December take-home pay         35785.15 |\n",
        "    +-----------------------------------------+\n",
        "\n"
       ]
      }
     ],
     "prompt_number": 3
    },
    {
     "cell_type": "code",
     "collapsed": false,
     "input": [
      "print(tax_norge(600000))"
     ],
     "language": "python",
     "metadata": {},
     "outputs": [
      {
       "output_type": "stream",
       "stream": "stdout",
       "text": [
        "\n",
        "    +-----------------------------------------+\n",
        "    | Months in Norway                     12 |\n",
        "    | Income                        600000.00 |\n",
        "    +-----------------------------------------+\n",
        "    | Deductions:                             |\n",
        "    |                                         |\n",
        "    | Minimal deduction              89050.00 |\n",
        "    | Standard deduction for                  |\n",
        "    |   foreign workers              40000.00 |\n",
        "    |                                         |\n",
        "    | Income after deductions       470950.00 |\n",
        "    +-----------------------------------------+\n",
        "    | Taxes:                                  |\n",
        "    |                                         |\n",
        "    | NIS                            49200.00 |\n",
        "    |                        8.2% * 600000.00 |\n",
        "    | Tax                           127156.50 |\n",
        "    | 27.0% * 470950.00                       |\n",
        "    +-----------------------------------------+\n",
        "    | Total Tax                     176356.50 |\n",
        "    | Total Tax %                       29.4% |\n",
        "    |                                         |\n",
        "    | Monthly take-home pay          34635.61 |\n",
        "    | December take-home pay         42651.81 |\n",
        "    +-----------------------------------------+\n",
        "\n"
       ]
      }
     ],
     "prompt_number": 4
    },
    {
     "cell_type": "code",
     "collapsed": false,
     "input": [],
     "language": "python",
     "metadata": {},
     "outputs": [],
     "prompt_number": 4
    }
   ],
   "metadata": {}
  }
 ]
}